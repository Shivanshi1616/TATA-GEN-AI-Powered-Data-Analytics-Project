{
  "cells": [
    {
      "cell_type": "code",
      "source": [
        "# --- Jupyter Notebook Start ---\n",
        "\n",
        "# ## Step 1: Initial Data Loading and Inspection\n",
        "\n",
        "# ### 1.1 Load the Dataset\n",
        "import pandas as pd\n",
        "\n",
        "# Load the dataset\n",
        "df = pd.read_csv('Delinquency_prediction_dataset.xlsx - Delinquency_prediction_dataset.csv')\n",
        "\n",
        "print('First 5 rows of the dataset:')\n",
        "print(df.head())"
      ],
      "outputs": [],
      "execution_count": null,
      "metadata": {
        "id": "kZ4kPmaEbVZS"
      }
    },
    {
      "cell_type": "code",
      "source": [
        "# ### 1.2 Display Column Information and Check for Missing Values\n",
        "print('\\nColumn information and non-null counts:')\n",
        "df.info()"
      ],
      "outputs": [],
      "execution_count": null,
      "metadata": {
        "id": "vdac1V4ObVZU"
      }
    },
    {
      "cell_type": "code",
      "source": [
        "# ### 1.3 Calculate and Display Percentage of Missing Values\n",
        "missing_values = df.isnull().sum()\n",
        "missing_percentage = (missing_values / len(df)) * 100\n",
        "missing_info = pd.DataFrame({'Missing Values': missing_values, 'Percentage': missing_percentage})\n",
        "print('\\nMissing Values Information (only showing columns with missing data):')\n",
        "print(missing_info[missing_info['Missing Values'] > 0].sort_values(by='Percentage', ascending=False))"
      ],
      "outputs": [],
      "execution_count": null,
      "metadata": {
        "id": "AAASJnCcbVZV"
      }
    },
    {
      "cell_type": "code",
      "source": [
        "# ### 1.4 Descriptive Statistics for Numerical Columns\n",
        "print('\\nDescriptive statistics for numerical columns:')\n",
        "print(df.describe())"
      ],
      "outputs": [],
      "execution_count": null,
      "metadata": {
        "id": "0BTTP78_bVZW"
      }
    },
    {
      "cell_type": "code",
      "source": [
        "# ## Step 2: Data Analysis - Patterns, Outliers, and Distributions\n",
        "\n",
        "# ### 2.1 Plot Distributions for Numerical Columns\n",
        "import matplotlib.pyplot as plt\n",
        "import seaborn as sns\n",
        "\n",
        "# Set style for plots\n",
        "sns.set_style('whitegrid')\n",
        "\n",
        "# List of numerical columns for distribution analysis\n",
        "numerical_cols = ['Age', 'Income', 'Credit_Score', 'Credit_Utilization', 'Missed_Payments', 'Loan_Balance', 'Debt_to_Income_Ratio', 'Account_Tenure']\n",
        "\n",
        "# Plot distributions for numerical columns\n",
        "plt.figure(figsize=(15, 12))\n",
        "for i, col in enumerate(numerical_cols):\n",
        "    plt.subplot(3, 3, i + 1)\n",
        "    sns.histplot(df[col].dropna(), kde=True)\n",
        "    plt.title(f'Distribution of {col}')\n",
        "    plt.xlabel(col)\n",
        "    plt.ylabel('Frequency')\n",
        "plt.tight_layout()\n",
        "plt.show() # Use plt.show() for notebooks to display plots directly\n",
        "# plt.savefig('numerical_distributions.png') # Commenting out as direct display is better for notebooks"
      ],
      "outputs": [],
      "execution_count": null,
      "metadata": {
        "id": "0hVnd4K-bVZX"
      }
    },
    {
      "cell_type": "code",
      "source": [
        "# ### 2.2 Analyze Categorical Columns\n",
        "categorical_cols_to_check = ['Employment_Status', 'Credit_Card_Type', 'Location', 'Delinquent_Account']\n",
        "# Add month columns for analysis\n",
        "for i in range(1, 7):\n",
        "    categorical_cols_to_check.append(f'Month_{i}')\n",
        "\n",
        "print('\\nCategorical Column Value Counts:')\n",
        "for col in categorical_cols_to_check:\n",
        "    print(f'\\nValue counts for {col}:')\n",
        "    print(df[col].value_counts())"
      ],
      "outputs": [],
      "execution_count": null,
      "metadata": {
        "id": "Gwuet8FJbVZY"
      }
    },
    {
      "cell_type": "code",
      "source": [
        "# ### 2.3 Check Balance of the Target Variable (Delinquent_Account)\n",
        "print(f'\\nTarget Variable (Delinquent_Account) Distribution:')\n",
        "print(df[\"Delinquent_Account\"].value_counts(normalize=True))"
      ],
      "outputs": [],
      "execution_count": null,
      "metadata": {
        "id": "jkRq_VQ1bVZZ"
      }
    },
    {
      "cell_type": "code",
      "source": [
        "# ## Step 3: Data Cleaning and Imputation\n",
        "\n",
        "# ### 3.1 Impute Missing Values\n",
        "# Impute Credit_Score with median\n",
        "df['Credit_Score'].fillna(df['Credit_Score'].median(), inplace=True)\n",
        "\n",
        "# Impute Income with median\n",
        "df['Income'].fillna(df['Income'].median(), inplace=True)\n",
        "\n",
        "# Impute Loan_Balance with median\n",
        "df['Loan_Balance'].fillna(df['Loan_Balance'].median(), inplace=True)\n",
        "\n",
        "print('Missing values after imputation:')\n",
        "print(df.isnull().sum())"
      ],
      "outputs": [],
      "execution_count": null,
      "metadata": {
        "id": "A5IsSXTMbVZa"
      }
    },
    {
      "cell_type": "code",
      "source": [
        "# ### 3.2 Standardize Inconsistent Categorical Data (Employment_Status)\n",
        "df['Employment_Status'] = df['Employment_Status'].replace({\n",
        "    'employed': 'Employed',\n",
        "    'EMP': 'Employed',\n",
        "    'retired': 'Retired'\n",
        "})\n",
        "\n",
        "print('\\nValue counts for Employment_Status after standardization:')\n",
        "print(df['Employment_Status'].value_counts())"
      ],
      "outputs": [],
      "execution_count": null,
      "metadata": {
        "id": "uJ-QaobpbVZb"
      }
    },
    {
      "cell_type": "code",
      "source": [
        "# ## Step 4: Saving Cleaned Dataset\n",
        "\n",
        "# ### 4.1 Save the Cleaned Dataset to CSV\n",
        "cleaned_csv_file_path = 'Delinquency_prediction_cleaned_dataset.csv'\n",
        "df.to_csv(cleaned_csv_file_path, index=False)\n",
        "\n",
        "print(f'\\nCleaned dataset saved to CSV: {cleaned_csv_file_path}')"
      ],
      "outputs": [],
      "execution_count": null,
      "metadata": {
        "id": "g4Ah2Z_ibVZc"
      }
    },
    {
      "cell_type": "code",
      "source": [
        "# ### 4.2 Save the Cleaned Dataset to Excel\n",
        "excel_file_path = 'Delinquency_prediction_cleaned_dataset.xlsx'\n",
        "df.to_excel(excel_file_path, index=False)\n",
        "\n",
        "print(f'Cleaned dataset saved to Excel: {excel_file_path}')\n",
        "\n",
        "print('\\n--- Jupyter Notebook End ---')"
      ],
      "outputs": [],
      "execution_count": null,
      "metadata": {
        "id": "A-ai4q_qbVZc"
      }
    }
  ],
  "metadata": {
    "colab": {
      "provenance": []
    },
    "kernelspec": {
      "display_name": "Python 3",
      "name": "python3"
    }
  },
  "nbformat": 4,
  "nbformat_minor": 0
}